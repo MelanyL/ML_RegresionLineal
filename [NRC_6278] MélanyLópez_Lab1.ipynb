{
 "cells": [
  {
   "cell_type": "markdown",
   "id": "c7f1db63",
   "metadata": {},
   "source": [
    "**Regresión Lineal**"
   ]
  },
  {
   "cell_type": "markdown",
   "id": "ba96686c",
   "metadata": {},
   "source": [
    "**Importamos las librerías requeridas para realizar la actividad**"
   ]
  },
  {
   "cell_type": "code",
   "execution_count": 2,
   "id": "3e48603d",
   "metadata": {},
   "outputs": [],
   "source": [
    "# Importamos la libreria pandas\n",
    "import pandas as pd\n",
    "# Importamos la libreria numpy\n",
    "import numpy as np"
   ]
  },
  {
   "cell_type": "markdown",
   "id": "cd86e963",
   "metadata": {},
   "source": [
    "**Cargamos el Dataset**"
   ]
  },
  {
   "cell_type": "markdown",
   "id": "8d26ba79",
   "metadata": {},
   "source": [
    "El dataset a utilizar posee un total de 414 instancias, teniendo como referencia 6 variables independientes o de entrada y una variable dependiente de salida. Las cuales nos van a permitir obtener una predicción sobre el precio por unidad de superficie de una casa. "
   ]
  },
  {
   "cell_type": "code",
   "execution_count": null,
   "id": "647a4a26",
   "metadata": {},
   "outputs": [],
   "source": []
  }
 ],
 "metadata": {
  "kernelspec": {
   "display_name": "Python 3 (ipykernel)",
   "language": "python",
   "name": "python3"
  },
  "language_info": {
   "codemirror_mode": {
    "name": "ipython",
    "version": 3
   },
   "file_extension": ".py",
   "mimetype": "text/x-python",
   "name": "python",
   "nbconvert_exporter": "python",
   "pygments_lexer": "ipython3",
   "version": "3.9.12"
  }
 },
 "nbformat": 4,
 "nbformat_minor": 5
}
